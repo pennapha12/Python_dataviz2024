{
  "nbformat": 4,
  "nbformat_minor": 0,
  "metadata": {
    "colab": {
      "provenance": [],
      "authorship_tag": "ABX9TyOZq9POfkoVi2rNWaRYedmz",
      "include_colab_link": true
    },
    "kernelspec": {
      "name": "python3",
      "display_name": "Python 3"
    },
    "language_info": {
      "name": "python"
    }
  },
  "cells": [
    {
      "cell_type": "markdown",
      "metadata": {
        "id": "view-in-github",
        "colab_type": "text"
      },
      "source": [
        "<a href=\"https://colab.research.google.com/github/pennapha12/Python_dataviz2024/blob/main/My_first_python_notebook.ipynb\" target=\"_parent\"><img src=\"https://colab.research.google.com/assets/colab-badge.svg\" alt=\"Open In Colab\"/></a>"
      ]
    },
    {
      "cell_type": "markdown",
      "source": [
        "Basic progarmming for Science & Data Visulization\n",
        "here we use **Markdown**"
      ],
      "metadata": {
        "id": "5nC5_0CHR5_f"
      }
    },
    {
      "cell_type": "code",
      "source": [
        "print('Pennapha')\n",
        "#ใช้วงเล็บโค้งเนื่องจากเป็นฟังค์ชั่น มีค่าเดียว ค่าอยู่ในวงเล็บ\n",
        "# ใช้ '  '  เนื่องจากค่าที่จะใส่เป็นข้อความ"
      ],
      "metadata": {
        "colab": {
          "base_uri": "https://localhost:8080/"
        },
        "id": "9EYl1NA3SbBk",
        "outputId": "8813b8ec-c667-4cac-83a0-f4f487d4fa93"
      },
      "execution_count": 1,
      "outputs": [
        {
          "output_type": "stream",
          "name": "stdout",
          "text": [
            "Pennapha\n"
          ]
        }
      ]
    }
  ]
}